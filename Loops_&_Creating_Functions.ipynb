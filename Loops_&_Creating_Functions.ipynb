{
  "cells": [
    {
      "cell_type": "markdown",
      "metadata": {
        "id": "view-in-github",
        "colab_type": "text"
      },
      "source": [
        "<a href=\"https://colab.research.google.com/github/Muhammadowais511/Lacture-7-_-Loops-and-Functions-in-Python/blob/main/Loops_%26_Creating_Functions.ipynb\" target=\"_parent\"><img src=\"https://colab.research.google.com/assets/colab-badge.svg\" alt=\"Open In Colab\"/></a>"
      ]
    },
    {
      "cell_type": "code",
      "execution_count": null,
      "metadata": {
        "id": "LiQCOQWOREMC"
      },
      "outputs": [],
      "source": [
        "For Loop"
      ]
    },
    {
      "cell_type": "code",
      "execution_count": null,
      "metadata": {
        "colab": {
          "base_uri": "https://localhost:8080/"
        },
        "id": "tgXVDR6aRX7K",
        "outputId": "6a58972b-f803-42ba-fc6e-b03676129ca8"
      },
      "outputs": [
        {
          "name": "stdout",
          "output_type": "stream",
          "text": [
            "Good\n",
            "Good\n",
            "Good\n",
            "Good\n",
            "Good\n",
            "Good\n",
            "Good\n",
            "Good\n",
            "Good\n",
            "Good\n",
            "Good\n",
            "Good\n"
          ]
        }
      ],
      "source": [
        "A = \"Good\"\n",
        "for B in range(12):\n",
        "   print (A)"
      ]
    },
    {
      "cell_type": "code",
      "execution_count": null,
      "metadata": {
        "colab": {
          "base_uri": "https://localhost:8080/"
        },
        "id": "sutORiEzVqNR",
        "outputId": "dab92928-28dd-4ebc-a02d-df48aaee4b41"
      },
      "outputs": [
        {
          "name": "stdout",
          "output_type": "stream",
          "text": [
            "Excellent\n",
            "Brilliant\n",
            "Excellent\n",
            "Brilliant\n",
            "Excellent\n",
            "Brilliant\n",
            "Excellent\n",
            "Brilliant\n",
            "Excellent\n",
            "Brilliant\n"
          ]
        }
      ],
      "source": [
        "for C in range(5):\n",
        "   print(\"Excellent\")\n",
        "   print(\"Brilliant\")"
      ]
    },
    {
      "cell_type": "code",
      "execution_count": null,
      "metadata": {
        "colab": {
          "base_uri": "https://localhost:8080/"
        },
        "id": "22ewrBM7Wa_V",
        "outputId": "a3ee54d6-bcee-45b7-946f-2cf26becc5e6"
      },
      "outputs": [
        {
          "name": "stdout",
          "output_type": "stream",
          "text": [
            "Sharpener\n",
            "Pancil\n",
            "Scale\n"
          ]
        }
      ],
      "source": [
        "Stationary = [\"Sharpener\", \"Pancil\" , \"Scale\"]\n",
        "for thing in Stationary:\n",
        "   print (thing)"
      ]
    },
    {
      "cell_type": "code",
      "execution_count": null,
      "metadata": {
        "colab": {
          "base_uri": "https://localhost:8080/"
        },
        "id": "z8CNAnkBYVci",
        "outputId": "ab5668ed-9e36-4e48-f8d0-f186666b1458"
      },
      "outputs": [
        {
          "name": "stdout",
          "output_type": "stream",
          "text": [
            "3\n",
            "1\n",
            "2\n",
            "2\n",
            "3\n",
            "6\n",
            "0\n",
            "9\n",
            "7\n",
            "7\n"
          ]
        }
      ],
      "source": [
        "mobile = [3 ,1 ,2 ,2 ,3 ,6 ,0 ,9 ,7 ,7]\n",
        "for number in mobile:\n",
        "   print (number)"
      ]
    },
    {
      "cell_type": "code",
      "execution_count": null,
      "metadata": {
        "id": "nmv6Zi7eZv1s"
      },
      "outputs": [],
      "source": [
        "Looping Through a String"
      ]
    },
    {
      "cell_type": "code",
      "execution_count": null,
      "metadata": {
        "colab": {
          "base_uri": "https://localhost:8080/"
        },
        "id": "kI672UQ4WRMo",
        "outputId": "79472dfd-148c-461d-d162-a2acab5daa23"
      },
      "outputs": [
        {
          "name": "stdout",
          "output_type": "stream",
          "text": [
            "A\n",
            "p\n",
            "p\n",
            "l\n",
            "e\n"
          ]
        }
      ],
      "source": [
        "for D in \"Apple\":\n",
        "   print (D)"
      ]
    },
    {
      "cell_type": "code",
      "execution_count": null,
      "metadata": {
        "colab": {
          "base_uri": "https://localhost:8080/"
        },
        "id": "yJa_EgqTahss",
        "outputId": "0ea853fb-87f3-4dea-86b2-2ac4b84c5559"
      },
      "outputs": [
        {
          "name": "stdout",
          "output_type": "stream",
          "text": [
            "Apple\n",
            "Banana\n",
            "A\n",
            "p\n",
            "p\n",
            "l\n",
            "e\n",
            " \n",
            "b\n",
            "a\n",
            "n\n",
            "a\n",
            "n\n",
            "a\n"
          ]
        }
      ],
      "source": [
        "for E in \"Apple\" , \"Banana\":\n",
        "   print (E)\n",
        "for F in \"Apple banana\":\n",
        "   print (F)"
      ]
    },
    {
      "cell_type": "code",
      "execution_count": null,
      "metadata": {
        "id": "5YH2XYx7bYgA"
      },
      "outputs": [],
      "source": [
        "The Range Function"
      ]
    },
    {
      "cell_type": "code",
      "execution_count": null,
      "metadata": {
        "colab": {
          "base_uri": "https://localhost:8080/"
        },
        "id": "xDuqlwK7bjTZ",
        "outputId": "961de0bf-4d6b-4122-c52d-666d4c49f9ef"
      },
      "outputs": [
        {
          "name": "stdout",
          "output_type": "stream",
          "text": [
            "5\n",
            "6\n",
            "7\n"
          ]
        }
      ],
      "source": [
        "for number in range(5 , 8):\n",
        "   print (number)"
      ]
    },
    {
      "cell_type": "code",
      "execution_count": null,
      "metadata": {
        "id": "BRoEHW0lb6vg"
      },
      "outputs": [],
      "source": [
        "Looping Through a Dictionary"
      ]
    },
    {
      "cell_type": "code",
      "execution_count": null,
      "metadata": {
        "colab": {
          "base_uri": "https://localhost:8080/"
        },
        "id": "6Vym9m37cEap",
        "outputId": "67ce2f5d-9bdf-4894-9612-3b7ea2184115"
      },
      "outputs": [
        {
          "name": "stdout",
          "output_type": "stream",
          "text": [
            "work\n",
            "dict_values(['Teaching', 'Islamics'])\n",
            "Subject\n",
            "dict_values(['Teaching', 'Islamics'])\n"
          ]
        }
      ],
      "source": [
        "Job = { \"work\": \"Teaching\" , \"Subject\": \"Islamics\" }\n",
        "for item in Job:\n",
        "   print (item)\n",
        "   print (Job.values())"
      ]
    },
    {
      "cell_type": "code",
      "execution_count": null,
      "metadata": {
        "id": "ak8dqXZweEi-"
      },
      "outputs": [],
      "source": [
        "Finding Even Numbers"
      ]
    },
    {
      "cell_type": "code",
      "execution_count": null,
      "metadata": {
        "colab": {
          "base_uri": "https://localhost:8080/"
        },
        "id": "sdsPVF9edoP4",
        "outputId": "246f9eb4-7f90-489f-9310-b9754b6e7039"
      },
      "outputs": [
        {
          "name": "stdout",
          "output_type": "stream",
          "text": [
            "Odd 1\n",
            "2 Even\n",
            "Odd 3\n",
            "4 Even\n",
            "Odd 5\n",
            "6 Even\n",
            "Odd 7\n",
            "8 Even\n",
            "Odd 9\n"
          ]
        }
      ],
      "source": [
        "numbers = [1 , 2 , 3 , 4 , 5 , 6 , 7 , 8 , 9]\n",
        "for num in numbers:\n",
        "   if num % 2 == 0:\n",
        "      print (num , \"Even\" )\n",
        "   if num % 2 == 1:\n",
        "      print (\"Odd\" , num )"
      ]
    },
    {
      "cell_type": "code",
      "execution_count": null,
      "metadata": {
        "id": "Ekj64ZRugTb5"
      },
      "outputs": [],
      "source": [
        "While Loop"
      ]
    },
    {
      "cell_type": "code",
      "execution_count": null,
      "metadata": {
        "colab": {
          "base_uri": "https://localhost:8080/"
        },
        "id": "mB-eUOeXnJgX",
        "outputId": "669d9287-5fa3-4aa0-f0d1-c49ede6a5ec7"
      },
      "outputs": [
        {
          "name": "stdout",
          "output_type": "stream",
          "text": [
            "2\n",
            "4\n",
            "8\n",
            "16\n",
            "32\n"
          ]
        }
      ],
      "source": [
        "G = 2\n",
        "while G <(60):\n",
        "   print (G)\n",
        "   G = G * 2"
      ]
    },
    {
      "cell_type": "code",
      "execution_count": null,
      "metadata": {
        "colab": {
          "base_uri": "https://localhost:8080/"
        },
        "id": "ZOQOGjEpqIo4",
        "outputId": "6b8267c0-1b7b-47dd-cfbb-a3d089239018"
      },
      "outputs": [
        {
          "name": "stdout",
          "output_type": "stream",
          "text": [
            "@ 0 @\n",
            "@ 1 @\n",
            "@ 2 @\n",
            "@ 3 @\n",
            "@ 4 @\n",
            "@ 5 @\n",
            "@ 6 @\n",
            "@ 7 @\n",
            "@ 8 @\n",
            "@ 9 @\n",
            "@ 10 @\n"
          ]
        }
      ],
      "source": [
        "H = 0\n",
        "while H <=(10):\n",
        "   print (\"@\" , H , \"@\")\n",
        "   H = H + 1"
      ]
    },
    {
      "cell_type": "code",
      "execution_count": null,
      "metadata": {
        "id": "LYcxQk5OriC8"
      },
      "outputs": [],
      "source": [
        "User Input Validation"
      ]
    },
    {
      "cell_type": "code",
      "execution_count": null,
      "metadata": {
        "colab": {
          "base_uri": "https://localhost:8080/"
        },
        "id": "RH9sALgUrwcM",
        "outputId": "255c5426-adad-41d1-8d71-38a1e540784a"
      },
      "outputs": [
        {
          "name": "stdout",
          "output_type": "stream",
          "text": [
            "Owais\n",
            "True\n",
            "Owais\n",
            "True\n",
            "Owais\n",
            "True\n",
            "Gajar\n",
            "False\n"
          ]
        }
      ],
      "source": [
        "\n",
        "Password = \"\"\n",
        "while Password !=(\"Gajar\"):\n",
        "   Password = input(\"\")\n",
        "   if Password == \"Owais\":\n",
        "      print (True)\n",
        "   else:\n",
        "      print (False)"
      ]
    },
    {
      "cell_type": "code",
      "execution_count": null,
      "metadata": {
        "id": "kvUSpiP2uCxP"
      },
      "outputs": [],
      "source": [
        "Summimg Numbers"
      ]
    },
    {
      "cell_type": "code",
      "execution_count": null,
      "metadata": {
        "colab": {
          "base_uri": "https://localhost:8080/"
        },
        "id": "yMFwwGPOt08t",
        "outputId": "04fe5fd1-f4f0-490d-d250-d0e97f09aa87"
      },
      "outputs": [
        {
          "output_type": "stream",
          "name": "stdout",
          "text": [
            "the sum is: 1\n",
            "the sum is: 3\n",
            "the sum is: 6\n",
            "the sum is: 10\n",
            "the sum is: 15\n",
            "the sum is: 21\n",
            "the sum is: 28\n",
            "the sum is: 36\n",
            "the sum is: 45\n",
            "the sum is: 55\n"
          ]
        }
      ],
      "source": [
        "total = 0\n",
        "num = 1\n",
        "while num <=10:\n",
        "    total = total + num\n",
        "    num = num + 1\n",
        "    print ( \"the sum is:\" , total)"
      ]
    },
    {
      "cell_type": "code",
      "source": [
        "Creating and Calling Functions"
      ],
      "metadata": {
        "id": "4ZJSBNOwxKON"
      },
      "execution_count": null,
      "outputs": []
    },
    {
      "cell_type": "code",
      "source": [
        "def OwaisFunc():\n",
        "   print (123456789)\n",
        "\n",
        "OwaisFunc()"
      ],
      "metadata": {
        "colab": {
          "base_uri": "https://localhost:8080/"
        },
        "id": "WZXqhM56xXja",
        "outputId": "3dba4a3b-c443-4ea0-cd8b-ca3746a7925d"
      },
      "execution_count": null,
      "outputs": [
        {
          "output_type": "stream",
          "name": "stdout",
          "text": [
            "123456789\n"
          ]
        }
      ]
    },
    {
      "cell_type": "code",
      "source": [
        "OwaisFunc()"
      ],
      "metadata": {
        "colab": {
          "base_uri": "https://localhost:8080/"
        },
        "id": "5cI7FJTCyIcJ",
        "outputId": "641272d2-4e59-43b6-f6a5-8b028e7fd79d"
      },
      "execution_count": null,
      "outputs": [
        {
          "output_type": "stream",
          "name": "stdout",
          "text": [
            "123456789\n"
          ]
        }
      ]
    },
    {
      "cell_type": "code",
      "source": [
        "Arguments"
      ],
      "metadata": {
        "id": "lMcvv_-8yK1P"
      },
      "execution_count": null,
      "outputs": []
    },
    {
      "cell_type": "code",
      "source": [
        "def Argument1 (a , b):\n",
        "    sum = a + b\n",
        "    return sum\n",
        "\n",
        "\n",
        "result = Argument1 (2 , 5)\n",
        "print (\"the sum is:\" , result)"
      ],
      "metadata": {
        "colab": {
          "base_uri": "https://localhost:8080/"
        },
        "id": "zGp0QliuyOQX",
        "outputId": "9edc3966-f929-466e-cec8-303352de6916"
      },
      "execution_count": null,
      "outputs": [
        {
          "output_type": "stream",
          "name": "stdout",
          "text": [
            "the sum is: 7\n"
          ]
        }
      ]
    },
    {
      "cell_type": "code",
      "source": [
        "result = Argument1 (8 , 3)\n",
        "print (result)"
      ],
      "metadata": {
        "colab": {
          "base_uri": "https://localhost:8080/"
        },
        "id": "I4TuFdQZ0Xxc",
        "outputId": "dd744979-7f9c-4e8c-c50a-89700c1e31ce"
      },
      "execution_count": null,
      "outputs": [
        {
          "output_type": "stream",
          "name": "stdout",
          "text": [
            "11\n"
          ]
        }
      ]
    },
    {
      "cell_type": "code",
      "source": [
        "def LMS (l , m):\n",
        "    sum = l * m + 20 * 10\n",
        "    return sum\n",
        "\n",
        "\n",
        "result = LMS (2 , 5)\n",
        "print (result)"
      ],
      "metadata": {
        "colab": {
          "base_uri": "https://localhost:8080/"
        },
        "id": "QtB6Pgyf0vrI",
        "outputId": "068978e0-fc7a-4154-f3c8-b31f1a624c7c"
      },
      "execution_count": null,
      "outputs": [
        {
          "output_type": "stream",
          "name": "stdout",
          "text": [
            "210\n"
          ]
        }
      ]
    },
    {
      "cell_type": "code",
      "source": [
        "def Function (Anything):\n",
        "    for L in Anything:\n",
        "      print (L)\n",
        "\n",
        "Animals = (\"zebra\" , \"hourse\" , \"donkey\" , \"mule\")\n",
        "Function (Animals)"
      ],
      "metadata": {
        "colab": {
          "base_uri": "https://localhost:8080/",
          "height": 245
        },
        "id": "-JRq9-7j7iXQ",
        "outputId": "e3759ae3-74f9-43ce-f096-d3affbb46870"
      },
      "execution_count": null,
      "outputs": [
        {
          "output_type": "error",
          "ename": "NameError",
          "evalue": "name 'L' is not defined",
          "traceback": [
            "\u001b[0;31m---------------------------------------------------------------------------\u001b[0m",
            "\u001b[0;31mNameError\u001b[0m                                 Traceback (most recent call last)",
            "\u001b[0;32m/tmp/ipython-input-2102548213.py\u001b[0m in \u001b[0;36m<cell line: 0>\u001b[0;34m()\u001b[0m\n\u001b[1;32m      4\u001b[0m \u001b[0;34m\u001b[0m\u001b[0m\n\u001b[1;32m      5\u001b[0m \u001b[0mAnimals\u001b[0m \u001b[0;34m=\u001b[0m \u001b[0;34m(\u001b[0m\u001b[0;34m\"zebra\"\u001b[0m \u001b[0;34m,\u001b[0m \u001b[0;34m\"hourse\"\u001b[0m \u001b[0;34m,\u001b[0m \u001b[0;34m\"donkey\"\u001b[0m \u001b[0;34m,\u001b[0m \u001b[0;34m\"mule\"\u001b[0m\u001b[0;34m)\u001b[0m\u001b[0;34m\u001b[0m\u001b[0;34m\u001b[0m\u001b[0m\n\u001b[0;32m----> 6\u001b[0;31m \u001b[0mFunction\u001b[0m \u001b[0;34m(\u001b[0m\u001b[0mL\u001b[0m\u001b[0;34m)\u001b[0m\u001b[0;34m\u001b[0m\u001b[0;34m\u001b[0m\u001b[0m\n\u001b[0m",
            "\u001b[0;31mNameError\u001b[0m: name 'L' is not defined"
          ]
        }
      ]
    },
    {
      "cell_type": "code",
      "source": [
        "def MyComp (AnyItem):\n",
        "    for M in AnyItem:\n",
        "      print (M)"
      ],
      "metadata": {
        "id": "-a00lUdg-lQs"
      },
      "execution_count": null,
      "outputs": []
    },
    {
      "cell_type": "code",
      "source": [
        "Decimals = (1 , 2 , 3 , 4 , 5 , 6 , 7 , 8 , 9 , 1 , 0)\n",
        "MyComp (Decimals)"
      ],
      "metadata": {
        "colab": {
          "base_uri": "https://localhost:8080/"
        },
        "id": "FbCofXzS_DrU",
        "outputId": "a6e696ef-168a-45f8-f929-3f8e7457b30e"
      },
      "execution_count": null,
      "outputs": [
        {
          "output_type": "stream",
          "name": "stdout",
          "text": [
            "1\n",
            "2\n",
            "3\n",
            "4\n",
            "5\n",
            "6\n",
            "7\n",
            "8\n",
            "9\n",
            "1\n",
            "0\n"
          ]
        }
      ]
    },
    {
      "cell_type": "code",
      "source": [
        "Return Values"
      ],
      "metadata": {
        "id": "UfOhf6JxAIKL"
      },
      "execution_count": null,
      "outputs": []
    },
    {
      "cell_type": "code",
      "source": [
        "def R_Val (N):\n",
        "    return 254 * N\n",
        "\n",
        "\n",
        "print (R_Val (21))\n",
        "print (R_Val (34))\n",
        "print (R_Val (56))"
      ],
      "metadata": {
        "colab": {
          "base_uri": "https://localhost:8080/"
        },
        "id": "n7NggwbvAWAc",
        "outputId": "3857fb5e-9268-4dd6-8bc4-cc872580a55b"
      },
      "execution_count": null,
      "outputs": [
        {
          "output_type": "stream",
          "name": "stdout",
          "text": [
            "5334\n",
            "8636\n",
            "14224\n"
          ]
        }
      ]
    },
    {
      "cell_type": "code",
      "source": [
        "def O (P = \"Q\"):\n",
        "    print (\"HI\" , P)\n",
        "\n",
        "O ()\n",
        "O (\"R\")"
      ],
      "metadata": {
        "colab": {
          "base_uri": "https://localhost:8080/"
        },
        "id": "rgFEaCTkKI3n",
        "outputId": "e4714a04-4db5-4429-fb20-cf8e6bd340a2"
      },
      "execution_count": null,
      "outputs": [
        {
          "output_type": "stream",
          "name": "stdout",
          "text": [
            "HI Q\n",
            "HI R\n"
          ]
        }
      ]
    },
    {
      "cell_type": "code",
      "source": [
        "def even_odd (num):\n",
        "    if num % 2 == 0:\n",
        "       print (num , 'is even')\n",
        "    else:\n",
        "       print (num , ' is odd')\n",
        "\n",
        "even_odd (5)\n",
        "even_odd (3)"
      ],
      "metadata": {
        "colab": {
          "base_uri": "https://localhost:8080/"
        },
        "id": "6U5v5xgrK3rl",
        "outputId": "a72eefb7-86dd-4f1f-a14a-638157b46a92"
      },
      "execution_count": null,
      "outputs": [
        {
          "output_type": "stream",
          "name": "stdout",
          "text": [
            "5  is odd\n",
            "3  is odd\n"
          ]
        }
      ]
    },
    {
      "cell_type": "code",
      "source": [
        "def words_number (owais):\n",
        "    words = owais.split()\n",
        "    return len(words)"
      ],
      "metadata": {
        "id": "ZpwOpmLRWjDa"
      },
      "execution_count": null,
      "outputs": []
    },
    {
      "cell_type": "code",
      "source": [
        "\n",
        "Discussion = \"I Have Completed this Excercise\"\n",
        "Why = words_number (Discussion)\n",
        "print (\"number of its words are\" , Why)"
      ],
      "metadata": {
        "colab": {
          "base_uri": "https://localhost:8080/"
        },
        "id": "L1aTYCtHaC5j",
        "outputId": "e79c36a4-cb9f-4d52-b0c9-8d243891e3a0"
      },
      "execution_count": null,
      "outputs": [
        {
          "output_type": "stream",
          "name": "stdout",
          "text": [
            "number of its words are 5\n"
          ]
        }
      ]
    },
    {
      "cell_type": "code",
      "source": [
        "The End."
      ],
      "metadata": {
        "id": "POb4lbTyctnb"
      },
      "execution_count": null,
      "outputs": []
    }
  ],
  "metadata": {
    "colab": {
      "provenance": [],
      "authorship_tag": "ABX9TyOpLm/cszUWIsYcNPaGk/8B",
      "include_colab_link": true
    },
    "kernelspec": {
      "display_name": "Python 3",
      "name": "python3"
    },
    "language_info": {
      "name": "python"
    }
  },
  "nbformat": 4,
  "nbformat_minor": 0
}